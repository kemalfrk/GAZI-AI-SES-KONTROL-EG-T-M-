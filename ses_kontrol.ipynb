{
 "cells": [
  {
   "cell_type": "markdown",
   "id": "0f4a22ba",
   "metadata": {},
   "source": [
    "### Gerekli Kütüphanelerin İndirilmesi"
   ]
  },
  {
   "cell_type": "code",
   "execution_count": null,
   "id": "44292f31",
   "metadata": {},
   "outputs": [],
   "source": [
    "!pip install mediapipe"
   ]
  },
  {
   "cell_type": "code",
   "execution_count": null,
   "id": "981dbb85",
   "metadata": {},
   "outputs": [],
   "source": [
    "!pip install opencv-python"
   ]
  },
  {
   "cell_type": "code",
   "execution_count": null,
   "id": "d95406bd",
   "metadata": {},
   "outputs": [],
   "source": [
    "!pip install pyautogui"
   ]
  },
  {
   "cell_type": "markdown",
   "id": "a797f4a2",
   "metadata": {},
   "source": [
    "### Gerekli Kütüphanelerin İçe Aktarılması"
   ]
  },
  {
   "cell_type": "code",
   "execution_count": 9,
   "id": "3329b6dc",
   "metadata": {},
   "outputs": [],
   "source": [
    "import cv2\n",
    "import mediapipe as mp\n",
    "import pyautogui"
   ]
  },
  {
   "cell_type": "markdown",
   "id": "01a4207a",
   "metadata": {},
   "source": [
    "### Webcam Açma"
   ]
  },
  {
   "cell_type": "code",
   "execution_count": 2,
   "id": "1b60a646",
   "metadata": {},
   "outputs": [],
   "source": [
    "cap=cv2.VideoCapture(0)\n",
    "while True:\n",
    "    success,img=cap.read()\n",
    "    cv2.imshow(\"sesKontrol\",img)\n",
    "    if cv2.waitKey(10) & 0XFF==ord('q'):\n",
    "        break\n",
    "cap.release()\n",
    "cv2.destroyAllWindows()"
   ]
  },
  {
   "cell_type": "markdown",
   "id": "1c65e2d4",
   "metadata": {},
   "source": [
    "### Ses Kontrolü "
   ]
  },
  {
   "cell_type": "code",
   "execution_count": 16,
   "id": "68239f0b",
   "metadata": {},
   "outputs": [],
   "source": [
    "x1=x2=y1=y2=0\n",
    "\n",
    "cap=cv2.VideoCapture(0)\n",
    "my_hands=mp.solutions.hands.Hands()\n",
    "mpDraw=mp.solutions.drawing_utils\n",
    "\n",
    "\n",
    "\n",
    "\n",
    "while True:\n",
    "    success,img=cap.read()\n",
    "    rgb_img=cv2.cvtColor(img,cv2.COLOR_BGR2RGB)\n",
    "    \n",
    "    output=my_hands.process(rgb_img)\n",
    "    hands=output.multi_hand_landmarks\n",
    "    \n",
    "    if hands:\n",
    "        for hand in hands:\n",
    "            mpDraw.draw_landmarks(img,hand,landmark_drawing_spec=mpDraw.DrawingSpec(color=(0,0,0)))\n",
    "            \n",
    "            landmarks=hand.landmark\n",
    "            \n",
    "            for id,landmark in enumerate(landmarks):\n",
    "                h,w,_=img.shape\n",
    "                cx,cy=int(landmark.x*w),int(landmark.y*h)\n",
    "                \n",
    "                if id==4:\n",
    "                    cv2.circle(img,(cx,cy),15,(255,0,0),cv2.FILLED)\n",
    "                    x1=cx\n",
    "                    y1=cy\n",
    "                \n",
    "                if id==8:\n",
    "                    cv2.circle(img,(cx,cy),15,(0,255,0),cv2.FILLED)\n",
    "                    x2=cx\n",
    "                    y2=cy\n",
    "                    \n",
    "                dist=((x2-x1)**2+(y2-y1)**2)**(0.5)//4\n",
    "                cv2.line(img,(x1,y1),(x2,y2),(255,255,255),20)\n",
    "                \n",
    "                if dist >20:\n",
    "                    pyautogui.press(\"volumeup\")\n",
    "                else:\n",
    "                    pyautogui.press(\"volumedown\")\n",
    "    \n",
    "    \n",
    "    cv2.imshow(\"sesKontrol\",img)\n",
    "    if cv2.waitKey(10) & 0XFF==ord('q'):\n",
    "        break\n",
    "cap.release()\n",
    "cv2.destroyAllWindows()"
   ]
  },
  {
   "cell_type": "markdown",
   "id": "fb82c22c",
   "metadata": {},
   "source": [
    "<a href=\"https://developers.google.com/mediapipe/solutions/vision/hand_landmarker\"> Mediapipe Kütüphanesi El Modeli için buraya tıklayabilirsiniz </a>"
   ]
  },
  {
   "cell_type": "code",
   "execution_count": null,
   "id": "49af5e67",
   "metadata": {},
   "outputs": [],
   "source": []
  }
 ],
 "metadata": {
  "kernelspec": {
   "display_name": "Python 3 (ipykernel)",
   "language": "python",
   "name": "python3"
  },
  "language_info": {
   "codemirror_mode": {
    "name": "ipython",
    "version": 3
   },
   "file_extension": ".py",
   "mimetype": "text/x-python",
   "name": "python",
   "nbconvert_exporter": "python",
   "pygments_lexer": "ipython3",
   "version": "3.11.5"
  }
 },
 "nbformat": 4,
 "nbformat_minor": 5
}
